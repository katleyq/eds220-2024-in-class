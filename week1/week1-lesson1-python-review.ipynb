{
 "cells": [
  {
   "cell_type": "markdown",
   "id": "5aed6b77-dbee-422a-817a-036ceecf81d7",
   "metadata": {},
   "source": [
    "# Python Review\n",
    "\n",
    "Short review about some core concepts in Python exemplified by objects in the Numpy library.\n",
    "\n",
    "Goals:\n",
    "- recall basic Python vocabulary\n",
    "- practice markdown syntax\n",
    "\n",
    "\n",
    "## Libraries and packages\n",
    "**library** is a collection of code that we can use to perform specific tasks in our programs. It can be a single file or multiple files.\n",
    "\n",
    "**NumPy:**\n",
    "- core library for numerical computing in Python\n",
    "- many of libraries use NumPy arrays as their building blocks\n",
    "- computations on NumPy objects are optimized for speed and memory usage\n",
    "\n",
    "Let's import NumPy with its **standard abbreviation** np:"
   ]
  },
  {
   "cell_type": "code",
   "execution_count": 1,
   "id": "3976bf67-555b-4f58-9097-5d92dea1f982",
   "metadata": {
    "tags": []
   },
   "outputs": [],
   "source": [
    "import numpy as np"
   ]
  },
  {
   "cell_type": "markdown",
   "id": "6616764d-2ab1-43e1-b200-e952b85c66cb",
   "metadata": {},
   "source": [
    "## Variables\n",
    "\n",
    "**variable:** a name that we assign to a particular object in Python\n",
    "\n",
    "Example:"
   ]
  },
  {
   "cell_type": "code",
   "execution_count": 2,
   "id": "f607adea-fb91-4581-8aa3-123bdd627749",
   "metadata": {
    "tags": []
   },
   "outputs": [],
   "source": [
    "# Assign a small array to variable a\n",
    "a = np.array([ [1,1,2], [3,5,8] ])"
   ]
  },
  {
   "cell_type": "markdown",
   "id": "542d81d5-bddc-401c-bb48-eadb530ef20f",
   "metadata": {},
   "source": [
    "To view a variable's value from our Jupyter notebook:"
   ]
  },
  {
   "cell_type": "code",
   "execution_count": 3,
   "id": "b6d8a384-1f01-456a-9a2a-6ee1079c7ed3",
   "metadata": {
    "tags": []
   },
   "outputs": [
    {
     "data": {
      "text/plain": [
       "array([[1, 1, 2],\n",
       "       [3, 5, 8]])"
      ]
     },
     "execution_count": 3,
     "metadata": {},
     "output_type": "execute_result"
    }
   ],
   "source": [
    "# Run cell with variable name to show value\n",
    "a"
   ]
  },
  {
   "cell_type": "code",
   "execution_count": 4,
   "id": "ad89faf4-2e6b-4f7a-bffb-6d985615e0ed",
   "metadata": {
    "tags": []
   },
   "outputs": [
    {
     "name": "stdout",
     "output_type": "stream",
     "text": [
      "[[1 1 2]\n",
      " [3 5 8]]\n"
     ]
    }
   ],
   "source": [
    "# Use 'print' function to print the value\n",
    "print(a)"
   ]
  },
  {
   "cell_type": "markdown",
   "id": "65c8ab0c-d2da-4e64-ab15-b0669a963b20",
   "metadata": {},
   "source": [
    "## Convention: Use 'snake_case' for naming variables\n",
    "\n",
    "This is the convention we will use in the course. Why?\n",
    "'my-variable' or 'MyVariable' or 'myVariable'\n",
    "\n",
    "PEP 8 - Style Guide for Python Code recommends snake_case.\n",
    "\n",
    "** Remember that variables name should be both descriptive and concise **\n",
    "\n",
    "\n",
    "## Objects\n",
    "**object:** (informally speaking) is a bundle of *properties* and *actions* about something specific.\n",
    "\n",
    "Example:\n",
    "\n",
    "Object: data frame\n",
    "Properties: number of rows, names of columns, and date created\n",
    "Actions: selecting a specifc row or adding a new column\n",
    "\n",
    "A variable is the name we give a specific object, and the same object can be reference by different variables.\n",
    "\n",
    "In practice, we can often use the word variable and object interchangeably.\n",
    "\n",
    "## Types\n",
    "Every object in Python has a **type**, the type tells us what kind of object we have. We can also call the type of an object, the **class** of an object. So the class and object both mean what kind of object we have."
   ]
  },
  {
   "cell_type": "code",
   "execution_count": 5,
   "id": "467d0382-4064-4d45-a9bf-7b4d3bb4ba60",
   "metadata": {
    "tags": []
   },
   "outputs": [
    {
     "data": {
      "text/plain": [
       "numpy.ndarray"
      ]
     },
     "execution_count": 5,
     "metadata": {},
     "output_type": "execute_result"
    }
   ],
   "source": [
    "# see the type/class of a variable/object by using the 'type' function\n",
    "type(a)"
   ]
  },
  {
   "cell_type": "markdown",
   "id": "b78e3425-38fb-4ad9-9d5e-e6ae6e5804c6",
   "metadata": {},
   "source": [
    "The numpy.ndarray is the core object/data type of the NumPy package"
   ]
  },
  {
   "cell_type": "code",
   "execution_count": 7,
   "id": "440fc6b1-5349-498b-92a3-2ba69023c5e4",
   "metadata": {
    "tags": []
   },
   "outputs": [
    {
     "name": "stdout",
     "output_type": "stream",
     "text": [
      "1\n"
     ]
    },
    {
     "data": {
      "text/plain": [
       "numpy.int64"
      ]
     },
     "execution_count": 7,
     "metadata": {},
     "output_type": "execute_result"
    }
   ],
   "source": [
    "print(a[0,0])\n",
    "\n",
    "type(a[0,0])"
   ]
  },
  {
   "cell_type": "markdown",
   "id": "f45934ae-4dae-4f9b-8449-01d9f2dc5045",
   "metadata": {},
   "source": [
    "`numpy.int64` is not the standard Python integer type 'int'\n",
    "`numpy.int64` is a special data type in NumPy telling us that 1 is an integer stored in a 64-bit number\n",
    "\n",
    "Check-In: access the value 5 in array 'a'"
   ]
  },
  {
   "cell_type": "code",
   "execution_count": 10,
   "id": "5f0ccd27-aeaa-449d-a60c-686e0a4c0b75",
   "metadata": {
    "tags": []
   },
   "outputs": [
    {
     "data": {
      "text/plain": [
       "5"
      ]
     },
     "execution_count": 10,
     "metadata": {},
     "output_type": "execute_result"
    }
   ],
   "source": [
    "a[1,1]"
   ]
  },
  {
   "cell_type": "markdown",
   "id": "a4884c80-fb09-4d2f-83b6-63397ea93fb5",
   "metadata": {},
   "source": [
    "## Functions\n",
    "\n",
    "`print` was our first example of a Python **function**\n",
    "Functions take in a set of **arguments**, separated by commas, and use those arguments to create an **output**\n",
    "\n",
    "In the course, we'll be using argument and parameter interchangeably. But they do have slightly different meanings.\n",
    "\n",
    "We can ask for info about what a function does by executing `?` followed by the function name."
   ]
  },
  {
   "cell_type": "code",
   "execution_count": 11,
   "id": "059fa0fe-827d-4a53-b600-6138f718393e",
   "metadata": {
    "tags": []
   },
   "outputs": [
    {
     "data": {
      "text/plain": [
       "\u001b[0;31mDocstring:\u001b[0m\n",
       "print(value, ..., sep=' ', end='\\n', file=sys.stdout, flush=False)\n",
       "\n",
       "Prints the values to a stream, or to sys.stdout by default.\n",
       "Optional keyword arguments:\n",
       "file:  a file-like object (stream); defaults to the current sys.stdout.\n",
       "sep:   string inserted between values, default a space.\n",
       "end:   string appended after the last value, default a newline.\n",
       "flush: whether to forcibly flush the stream.\n",
       "\u001b[0;31mType:\u001b[0m      builtin_function_or_method\n"
      ]
     },
     "metadata": {},
     "output_type": "display_data"
    }
   ],
   "source": [
    "?print"
   ]
  },
  {
   "cell_type": "markdown",
   "id": "ea8ba883-743f-459a-ac0f-cee5095d1d2a",
   "metadata": {},
   "source": [
    "What we obtain is a **docstring**, a special type of comment that is used to document how a function (or a class or a module) works.\n",
    "\n",
    "Notice is that there a different types of argumnets inside the function's parenthesis.\n",
    "\n",
    "Roughly speaking, a function has type two types of arguments:\n",
    "\n",
    "- **non-option arguments**: arguments *you* have to specify for the function to work\n",
    "- **optional argumnets**: arguments that are pre-filled with a default value by the function, but you can override them. Optional argumnets appear inside the parenthesis () in the form `optional_argument = default_value`.\n",
    "\n",
    "Example:\n",
    "`end` is a parameter in `print` with default vlaue in a new line\n",
    "We can pass the value `:-)` to this parameter so that it finishes the line with `:-)`"
   ]
  },
  {
   "cell_type": "code",
   "execution_count": 13,
   "id": "be0822c0-928e-4804-838f-e9ec1793eff7",
   "metadata": {
    "tags": []
   },
   "outputs": [
    {
     "name": "stdout",
     "output_type": "stream",
     "text": [
      "Change the end parameter :-)"
     ]
    }
   ],
   "source": [
    "print('Change the end parameter', end=' :-)')"
   ]
  },
  {
   "cell_type": "markdown",
   "id": "83447198-508f-42af-9cfc-2bccfa796e0b",
   "metadata": {},
   "source": [
    "## Attributes and methods\n",
    "An object in Python has attributes and methods.\n",
    "\n",
    "- **attributes**: a property of the object, some piece of information about it\n",
    "- **method**: a procedure associated with an object, so it is an action where the main ingredient is the object itself.\n",
    "\n",
    "## Check-in\n",
    "Make a diagram like the cat one, for a class `fish`\n",
    "\n",
    "attributes: scale, fresh-water/saltwater, color, weight, length\n",
    "method: swim(), eat(), breathe()\n",
    "\n",
    "\n",
    "Example\n",
    "NumPy arrays have many methods and attributes. For example:\n"
   ]
  },
  {
   "cell_type": "code",
   "execution_count": 20,
   "id": "0830019e-2f49-4293-8fb2-efefc8e19a66",
   "metadata": {
    "tags": []
   },
   "outputs": [
    {
     "data": {
      "text/plain": [
       "array([[1, 1, 2],\n",
       "       [3, 5, 8]])"
      ]
     },
     "execution_count": 20,
     "metadata": {},
     "output_type": "execute_result"
    }
   ],
   "source": [
    "a"
   ]
  },
  {
   "cell_type": "code",
   "execution_count": 15,
   "id": "7405fd23-e8c7-4058-beb5-0907ec622ceb",
   "metadata": {
    "tags": []
   },
   "outputs": [
    {
     "name": "stdout",
     "output_type": "stream",
     "text": [
      "[[1 3]\n",
      " [1 5]\n",
      " [2 8]]\n"
     ]
    }
   ],
   "source": [
    "# T is an example of an attribute, it returns the transpose an array\n",
    "print(a.T)"
   ]
  },
  {
   "cell_type": "code",
   "execution_count": 16,
   "id": "47f52038-c1df-493f-a790-7389d89dbc53",
   "metadata": {
    "tags": []
   },
   "outputs": [
    {
     "data": {
      "text/plain": [
       "numpy.ndarray"
      ]
     },
     "execution_count": 16,
     "metadata": {},
     "output_type": "execute_result"
    }
   ],
   "source": [
    "type(a.T)"
   ]
  },
  {
   "cell_type": "code",
   "execution_count": 19,
   "id": "e1a0c808-d7e2-4a52-aaa1-6d234c3d0a14",
   "metadata": {
    "tags": []
   },
   "outputs": [
    {
     "name": "stdout",
     "output_type": "stream",
     "text": [
      "(2, 3)\n"
     ]
    },
    {
     "data": {
      "text/plain": [
       "tuple"
      ]
     },
     "execution_count": 19,
     "metadata": {},
     "output_type": "execute_result"
    }
   ],
   "source": [
    "# shape: another attribute tells us the shape of the array\n",
    "print(a.shape)\n",
    "type(a.shape)"
   ]
  },
  {
   "cell_type": "code",
   "execution_count": 24,
   "id": "77797b84-61b6-498b-b032-31f5cfbd394c",
   "metadata": {
    "tags": []
   },
   "outputs": [
    {
     "name": "stdout",
     "output_type": "stream",
     "text": [
      "dim: 2 | type: <class 'int'>\n"
     ]
    }
   ],
   "source": [
    "# ndim is an attribute holding the number of array dimensions\n",
    "print('dim:', a.ndim, '| type:', type(a.ndim))"
   ]
  },
  {
   "cell_type": "markdown",
   "id": "73435596-7d9b-4dd9-b3c0-8b63cd7dc3e2",
   "metadata": {},
   "source": [
    "Attributes can have many different data types.\n",
    "\n",
    "Some examples of methods:\n"
   ]
  },
  {
   "cell_type": "code",
   "execution_count": 26,
   "id": "e2c36454-3b8b-4be9-87f3-edbb1da16a13",
   "metadata": {
    "tags": []
   },
   "outputs": [
    {
     "name": "stdout",
     "output_type": "stream",
     "text": [
      "[[1 1 2]\n",
      " [3 5 8]]\n"
     ]
    },
    {
     "data": {
      "text/plain": [
       "array([1, 1, 2])"
      ]
     },
     "execution_count": 26,
     "metadata": {},
     "output_type": "execute_result"
    }
   ],
   "source": [
    "# The min method returns the minimum value in the array along a specified axis\n",
    "print(a)\n",
    "a.min(axis=0)"
   ]
  },
  {
   "cell_type": "code",
   "execution_count": 27,
   "id": "f29afaef-90c8-4b76-a954-119c0f2127ff",
   "metadata": {
    "tags": []
   },
   "outputs": [
    {
     "data": {
      "text/plain": [
       "1"
      ]
     },
     "execution_count": 27,
     "metadata": {},
     "output_type": "execute_result"
    }
   ],
   "source": [
    "# Run min method with axis\n",
    "a.min()"
   ]
  },
  {
   "cell_type": "markdown",
   "id": "f6c914c4-ffd0-4ada-8374-3852e61ee334",
   "metadata": {},
   "source": [
    "Remember, methods are **functions** associated with an object. We can confirm this!"
   ]
  },
  {
   "cell_type": "code",
   "execution_count": 29,
   "id": "2263a632-7749-49bb-9218-569efdb9a078",
   "metadata": {
    "tags": []
   },
   "outputs": [
    {
     "data": {
      "text/plain": [
       "builtin_function_or_method"
      ]
     },
     "execution_count": 29,
     "metadata": {},
     "output_type": "execute_result"
    }
   ],
   "source": [
    "# method tolist() transform array into a list\n",
    "a.tolist()"
   ]
  },
  {
   "cell_type": "code",
   "execution_count": 30,
   "id": "9cf51999-c550-4d30-ad5a-d2fde05c7a43",
   "metadata": {
    "tags": []
   },
   "outputs": [
    {
     "data": {
      "text/plain": [
       "builtin_function_or_method"
      ]
     },
     "execution_count": 30,
     "metadata": {},
     "output_type": "execute_result"
    }
   ],
   "source": [
    "type(a.tolist)"
   ]
  },
  {
   "cell_type": "markdown",
   "id": "b31f15cc-1ae1-4013-a462-cbae80494422",
   "metadata": {},
   "source": [
    "## Exercise\n",
    "1. Read the print function help. What is the type of the argumnet `sep`? Is this a default or non-default argument? Why?\n",
    "2. Create two new variables, one with the integer value 77 and another one with the string 99.\n",
    "3. Use your variable to print 77%99%77 by changing the value of one of the default programs"
   ]
  },
  {
   "cell_type": "code",
   "execution_count": 31,
   "id": "f143f469-b07b-4572-8d45-5879c4f03f9b",
   "metadata": {
    "tags": []
   },
   "outputs": [
    {
     "data": {
      "text/plain": [
       "\u001b[0;31mDocstring:\u001b[0m\n",
       "print(value, ..., sep=' ', end='\\n', file=sys.stdout, flush=False)\n",
       "\n",
       "Prints the values to a stream, or to sys.stdout by default.\n",
       "Optional keyword arguments:\n",
       "file:  a file-like object (stream); defaults to the current sys.stdout.\n",
       "sep:   string inserted between values, default a space.\n",
       "end:   string appended after the last value, default a newline.\n",
       "flush: whether to forcibly flush the stream.\n",
       "\u001b[0;31mType:\u001b[0m      builtin_function_or_method\n"
      ]
     },
     "metadata": {},
     "output_type": "display_data"
    }
   ],
   "source": [
    "?print"
   ]
  },
  {
   "cell_type": "code",
   "execution_count": 39,
   "id": "2dcb9bfe-9a51-4bb3-a331-e6813b2b5170",
   "metadata": {
    "tags": []
   },
   "outputs": [
    {
     "name": "stdout",
     "output_type": "stream",
     "text": [
      "77%99%77\n"
     ]
    }
   ],
   "source": [
    "x = 77\n",
    "y = 99\n",
    "\n",
    "print(x,y,x, sep = \"%\")"
   ]
  },
  {
   "cell_type": "markdown",
   "id": "ae3cd7e2-ea5e-4d45-9904-0bf53a87b826",
   "metadata": {},
   "source": [
    "HW Check-In:\n",
    "The integer number -999 is often used to represent missing values. Create a pandas.Series named s with four integer values, two of which are -999. The index of this series should be the the letters A through D.\n",
    "\n",
    "In the pandas.Series documentation, look for the method mask(). Use this method to update the series s so that the -999 values are replaced by NA values. HINT: check the first example in the method’s documentation.\n",
    "\n",
    "\n",
    "Check-In 2\n",
    "We can access the data frame's column names via the columns attribute. Update the column names to C1 and C2 by updating this attribute."
   ]
  },
  {
   "cell_type": "code",
   "execution_count": 44,
   "id": "960d56a7-8653-4c93-8a8d-de007b3799ad",
   "metadata": {
    "tags": []
   },
   "outputs": [
    {
     "data": {
      "text/plain": [
       "A    1.0\n",
       "B    5.0\n",
       "C    NaN\n",
       "D    NaN\n",
       "dtype: float64"
      ]
     },
     "execution_count": 44,
     "metadata": {},
     "output_type": "execute_result"
    }
   ],
   "source": [
    "import pandas as pd\n",
    "s = pd.Series([1,5,-999, -999], ['A', 'B', 'C', 'D'])\n",
    "s = s.mask(s == -999)\n",
    "s"
   ]
  },
  {
   "cell_type": "code",
   "execution_count": 50,
   "id": "c7986728-4886-429e-9815-ca5990b875a0",
   "metadata": {
    "tags": []
   },
   "outputs": [],
   "source": [
    "import numpy as np\n",
    "df = {'col_name_1' : pd.Series(np.arange(3)),\n",
    "    'col_name_2' : pd.Series([3.1, 3.2, 3.3])}\n",
    "\n",
    "df = pd.DataFrame(df)\n",
    "df\n",
    "\n",
    "df = df.rename(columns={'col_name_1' : 'C1',\n",
    "                       'col_name_2' : 'C2'})\n"
   ]
  },
  {
   "cell_type": "code",
   "execution_count": 52,
   "id": "8179462c-ac8b-4452-a29e-34bea330aedb",
   "metadata": {
    "tags": []
   },
   "outputs": [
    {
     "data": {
      "text/html": [
       "<div>\n",
       "<style scoped>\n",
       "    .dataframe tbody tr th:only-of-type {\n",
       "        vertical-align: middle;\n",
       "    }\n",
       "\n",
       "    .dataframe tbody tr th {\n",
       "        vertical-align: top;\n",
       "    }\n",
       "\n",
       "    .dataframe thead th {\n",
       "        text-align: right;\n",
       "    }\n",
       "</style>\n",
       "<table border=\"1\" class=\"dataframe\">\n",
       "  <thead>\n",
       "    <tr style=\"text-align: right;\">\n",
       "      <th></th>\n",
       "      <th>C1</th>\n",
       "      <th>C2</th>\n",
       "    </tr>\n",
       "  </thead>\n",
       "  <tbody>\n",
       "    <tr>\n",
       "      <th>0</th>\n",
       "      <td>0</td>\n",
       "      <td>3.1</td>\n",
       "    </tr>\n",
       "    <tr>\n",
       "      <th>1</th>\n",
       "      <td>1</td>\n",
       "      <td>3.2</td>\n",
       "    </tr>\n",
       "    <tr>\n",
       "      <th>2</th>\n",
       "      <td>2</td>\n",
       "      <td>3.3</td>\n",
       "    </tr>\n",
       "  </tbody>\n",
       "</table>\n",
       "</div>"
      ],
      "text/plain": [
       "   C1   C2\n",
       "0   0  3.1\n",
       "1   1  3.2\n",
       "2   2  3.3"
      ]
     },
     "execution_count": 52,
     "metadata": {},
     "output_type": "execute_result"
    }
   ],
   "source": [
    "# another one where you don't have to re-assign the variable\n",
    "df.columns = ['C1', 'C2']\n",
    "df"
   ]
  }
 ],
 "metadata": {
  "kernelspec": {
   "display_name": "Anaconda 3 (Base)",
   "language": "python",
   "name": "base"
  },
  "language_info": {
   "codemirror_mode": {
    "name": "ipython",
    "version": 3
   },
   "file_extension": ".py",
   "mimetype": "text/x-python",
   "name": "python",
   "nbconvert_exporter": "python",
   "pygments_lexer": "ipython3",
   "version": "3.9.13"
  }
 },
 "nbformat": 4,
 "nbformat_minor": 5
}
